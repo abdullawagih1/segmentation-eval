{
 "cells": [
  {
   "cell_type": "code",
   "execution_count": 2,
   "metadata": {
    "collapsed": false,
    "deletable": true,
    "editable": true
   },
   "outputs": [],
   "source": [
    "import SimpleITK as sitk\n",
    "import DicomReader as Reader\n",
    "import collections\n"
   ]
  },
  {
   "cell_type": "code",
   "execution_count": null,
   "metadata": {
    "collapsed": true
   },
   "outputs": [],
   "source": []
  },
  {
   "cell_type": "code",
   "execution_count": 2,
   "metadata": {
    "collapsed": true,
    "deletable": true,
    "editable": true
   },
   "outputs": [],
   "source": [
    "import numpy as np"
   ]
  },
  {
   "cell_type": "code",
   "execution_count": 3,
   "metadata": {
    "collapsed": false,
    "deletable": true,
    "editable": true
   },
   "outputs": [],
   "source": [
    "tumor_paths = r\"SegmentationNo_0\"\n",
    "ablation_paths =r\"SegmentationNo_1\"\n",
    "\n",
    "folder_path_plan = r\"C:\\Study_840\\Series_9\"\n",
    "folder_path_validation = r\"C:\\Study_840\\Series_10\"\n",
    "tumor_mask, tumor_reader = Reader.read_dcm_series(tumor_paths)\n",
    "source_img_plan, img_plan_reader = Reader.read_dcm_series(folder_path_plan)\n",
    "ablation_mask, ablation_reader = Reader.read_dcm_series(ablation_paths)\n",
    "source_img_validation, img_validation_reader = Reader.read_dcm_series(folder_path_validation)\n",
    "\n"
   ]
  },
  {
   "cell_type": "code",
   "execution_count": 6,
   "metadata": {
    "collapsed": false,
    "deletable": true,
    "editable": true
   },
   "outputs": [],
   "source": [
    "tuple_imgs = collections.namedtuple('tuple_imgs',\n",
    "                                    ['img_plan',\n",
    "                                     'img_validation',\n",
    "                                     'ablation_mask',\n",
    "                                     'tumor_mask'])\n",
    "images = tuple_imgs(source_img_plan, source_img_validation, ablation_mask, tumor_mask)"
   ]
  },
  {
   "cell_type": "code",
   "execution_count": 8,
   "metadata": {
    "collapsed": false
   },
   "outputs": [],
   "source": [
    "sitk.Show(images.img_plan)"
   ]
  },
  {
   "cell_type": "code",
   "execution_count": 9,
   "metadata": {
    "collapsed": false,
    "deletable": true,
    "editable": true
   },
   "outputs": [],
   "source": [
    "def resize_resample_images(images):\n",
    "    \n",
    "    tuple_resized_imgs = collections.namedtuple('tuple_resized_imgs',\n",
    "                                                ['img_plan',\n",
    "                                                 'img_validation',\n",
    "                                                 'ablation_mask',\n",
    "                                                 'tumor_mask'])\n",
    "    dimension = images.img_plan.GetDimension()  #\n",
    "    reference_spacing = np.ones(dimension) # resize to isotropic size\n",
    "    reference_direction = np.identity(dimension).flatten()\n",
    "    reference_size = [512] * dimension\n",
    "    reference_origin = np.zeros(dimension)\n",
    "    data = [images.img_plan, images.img_validation, images.ablation_mask, images.tumor_mask]\n",
    "    #\n",
    "    # reference_physical_size = np.zeros(dimension)\n",
    "    # for img in data:\n",
    "    #     reference_physical_size[:] = [(sz - 1) * spc if sz * spc > mx else mx for sz, spc, mx in\n",
    "    #                                   zip(img.GetSize(), img.GetSpacing(), reference_physical_size)]\n",
    "    # reference_spacing = [phys_sz / (sz - 1) for sz, phys_sz in zip(reference_size, reference_physical_size)]\n",
    "\n",
    "    reference_image = sitk.Image(reference_size, images.img_plan.GetPixelIDValue())\n",
    "    reference_image.SetOrigin(reference_origin)\n",
    "    reference_image.SetSpacing(reference_spacing)\n",
    "    reference_image.SetDirection(reference_direction)\n",
    "    reference_center = np.array(\n",
    "        reference_image.TransformContinuousIndexToPhysicalPoint(np.array(reference_image.GetSize()) / 2.0))\n",
    "\n",
    "    #%% Paste the GT segmentation masks before transformation\n",
    "    #tumor_mask_paste = (paste_roi_image(images.img_plan, images.tumor_mask))\n",
    "    #ablation_mask_paste = (paste_roi_image(images.img_validation, images.ablation_mask))\n",
    "    #images.tumor_mask = tumor_mask_paste\n",
    "    #images.ablation_mask = ablation_mask_paste\n",
    "#     print('pasted image mask direction', tumor_mask_paste.GetDirection())\n",
    "#     print('pasted image mask origin', tumor_mask_paste.GetOrigin())\n",
    "#     print('pasted image mask spacing', tumor_mask_paste.GetSpacing())\n",
    "#     print('ABLATION:')\n",
    "#     print('pasted image mask direction', ablation_mask_paste.GetDirection())\n",
    "#     print('pasted image mask origin', ablation_mask_paste.GetOrigin())\n",
    "#     print('pasted image mask spacing', ablation_mask_paste.GetSpacing())\n",
    "\n",
    "    # %%  Apply transforms\n",
    "    data_resized = []\n",
    "    for idx,img in enumerate(data):\n",
    "        transform = sitk.AffineTransform(dimension) # use affine transform with 3 dimensions\n",
    "        transform.SetMatrix(img.GetDirection()) # set the cosine direction matrix\n",
    "        # TODO: check translation when computing the segmentations\n",
    "        transform.SetTranslation(np.array(img.GetOrigin()) - reference_origin) # set the translation.\n",
    "        # Modify the transformation to align the centers of the original and reference image instead of their origins.\n",
    "        centering_transform = sitk.TranslationTransform(dimension)\n",
    "        img_center = np.array(img.TransformContinuousIndexToPhysicalPoint(np.array(img.GetSize()) / 2.0))\n",
    "        centering_transform.SetOffset(np.array(transform.GetInverse().TransformPoint(img_center) - reference_center))\n",
    "        centered_transform = sitk.Transform(transform)\n",
    "        centered_transform.AddTransform(centering_transform)\n",
    "        # Using the linear interpolator as these are intensity images, if there is a need to resample a ground truth\n",
    "        # segmentation then the segmentation image should be resampled using the NearestNeighbor interpolator so that\n",
    "        # no new labels are introduced.\n",
    "        # inputImage-> TransformIndexToPhysicalPoint(inputImage->GetLargestPossibleRegion()->GetIndex()).\n",
    "        # set all  output image parameters: origin, spacing, direction, starting index, and size.\n",
    "        if (idx==1 or idx==2): # temporary solution to resample the GT image with NearestNeighbour\n",
    "            resampled_img = sitk.Resample(img, reference_image, centered_transform, sitk.sitkNearestNeighbor, 0.0)\n",
    "\n",
    "        else:\n",
    "             resampled_img = sitk.Resample(img, reference_image, centered_transform, sitk.sitkLinear, 0.0)\n",
    "        # append to list\n",
    "        data_resized.append(resampled_img)\n",
    "    print('TUMOR RESAMPLED:')\n",
    "    print('resampled image mask direction', data_resized[0].GetDirection())\n",
    "    print('resampled image mask origin', data_resized[0].GetOrigin())\n",
    "    print('resampled image mask spacing', data_resized[0].GetSpacing())\n",
    "\n",
    "    sitk.Show(data_resized[0], 'img1', debugOn=True)\n",
    "    # assuming the order stays the same, reassigng back to tuple\n",
    "    resized_imgs = tuple_resized_imgs(img_plan=data_resized[0],\n",
    "                                      img_validation=data_resized[1],\n",
    "                                      ablation_mask=data_resized[2],\n",
    "                                      tumor_mask=data_resized[3])"
   ]
  },
  {
   "cell_type": "code",
   "execution_count": 7,
   "metadata": {
    "collapsed": false,
    "deletable": true,
    "editable": true
   },
   "outputs": [
    {
     "name": "stdout",
     "output_type": "stream",
     "text": [
      "TUMOR RESAMPLED:\n",
      "resampled image mask direction (1.0, 0.0, 0.0, 0.0, 1.0, 0.0, 0.0, 0.0, 1.0)\n",
      "resampled image mask origin (0.0, 0.0, 0.0)\n",
      "resampled image mask spacing (1.0, 1.0, 1.0)\n"
     ]
    }
   ],
   "source": [
    "images_resized = resize_resample_images(images)"
   ]
  },
  {
   "cell_type": "code",
   "execution_count": 1,
   "metadata": {
    "collapsed": false,
    "deletable": true,
    "editable": true
   },
   "outputs": [
    {
     "ename": "NameError",
     "evalue": "name 'sitk' is not defined",
     "traceback": [
      "\u001b[1;31m---------------------------------------------------------------------------\u001b[0m",
      "\u001b[1;31mNameError\u001b[0m                                 Traceback (most recent call last)",
      "\u001b[1;32m<ipython-input-1-59f08fd969e8>\u001b[0m in \u001b[0;36m<module>\u001b[1;34m()\u001b[0m\n\u001b[1;32m----> 1\u001b[1;33m \u001b[0msitk\u001b[0m\u001b[1;33m.\u001b[0m\u001b[0mShow\u001b[0m\u001b[1;33m(\u001b[0m\u001b[0mtumor_mask\u001b[0m\u001b[1;33m)\u001b[0m\u001b[1;33m\u001b[0m\u001b[0m\n\u001b[0m",
      "\u001b[1;31mNameError\u001b[0m: name 'sitk' is not defined"
     ],
     "output_type": "error"
    }
   ],
   "source": [
    "sitk.Show(tumor_mask)"
   ]
  },
  {
   "cell_type": "code",
   "execution_count": null,
   "metadata": {
    "collapsed": true
   },
   "outputs": [],
   "source": []
  }
 ],
 "metadata": {
  "kernelspec": {
   "display_name": "Python [conda env:simpleitk_spyder]",
   "language": "python",
   "name": "conda-env-simpleitk_spyder-py"
  },
  "language_info": {
   "codemirror_mode": {
    "name": "ipython",
    "version": 3
   },
   "file_extension": ".py",
   "mimetype": "text/x-python",
   "name": "python",
   "nbconvert_exporter": "python",
   "pygments_lexer": "ipython3",
   "version": "3.6.5"
  }
 },
 "nbformat": 4,
 "nbformat_minor": 0
}
